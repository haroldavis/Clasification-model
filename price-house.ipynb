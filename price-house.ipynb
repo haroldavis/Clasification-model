{
 "cells": [
  {
   "cell_type": "code",
   "execution_count": 2,
   "metadata": {},
   "outputs": [],
   "source": [
    "#importamos librerías y herramientas\n",
    "import pandas as pd\n",
    "import numpy as np\n",
    "import matplotlib.pyplot as plt\n",
    "import seaborn as sns\n",
    "from sklearn.preprocessing import LabelEncoder,MinMaxScaler, OrdinalEncoder\n",
    "\n",
    "import datetime as dt\n",
    "from datetime import datetime\n",
    "from dateutil.relativedelta import relativedelta\n",
    "# gráficos\n",
    "import seaborn as sns\n",
    "import matplotlib.pyplot as plt\n",
    "# preprocessing\n",
    "from sklearn.preprocessing import StandardScaler\n",
    "from sklearn.model_selection import train_test_split\n",
    " # modelos\n",
    "from sklearn.linear_model import LinearRegression, Ridge, Lasso, ElasticNet, SGDRegressor\n",
    "from sklearn.svm import SVC\n",
    "from sklearn.ensemble import RandomForestRegressor, GradientBoostingRegressor\n",
    "#from xgboost import XGBRegressor\n",
    "from catboost import CatBoostRegressor\n",
    "# metricas\n",
    "import sklearn.metrics as metrics\n",
    "# hiperparametrizado\n",
    "from sklearn.model_selection import GridSearchCV\n",
    "# quitar alertas\n",
    "import warnings\n",
    "warnings.filterwarnings(\"ignore\")"
   ]
  },
  {
   "cell_type": "code",
   "execution_count": 3,
   "metadata": {},
   "outputs": [],
   "source": [
    "df_entrenar = pd.read_csv('data/viviendas_regresion_basica.csv')"
   ]
  }
 ],
 "metadata": {
  "kernelspec": {
   "display_name": "Python 3",
   "language": "python",
   "name": "python3"
  },
  "language_info": {
   "codemirror_mode": {
    "name": "ipython",
    "version": 3
   },
   "file_extension": ".py",
   "mimetype": "text/x-python",
   "name": "python",
   "nbconvert_exporter": "python",
   "pygments_lexer": "ipython3",
   "version": "3.9.0"
  }
 },
 "nbformat": 4,
 "nbformat_minor": 2
}
